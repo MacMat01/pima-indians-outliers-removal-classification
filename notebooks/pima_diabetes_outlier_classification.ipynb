{
 "cells": [
  {
   "cell_type": "markdown",
   "id": "c0e9c72d",
   "metadata": {},
   "source": [
    "# Pima Indians Diabetes Classification with Robust Outlier Handling"
   ]
  },
  {
   "cell_type": "markdown",
   "id": "d61bdd9c",
   "metadata": {},
   "source": [
    "This notebook **reproduces and unifies**:\n",
    "1. The *outlier‐aware pre‑processing* workflow by **Naresha Bhat**.\n",
    "2. The *multi‑model classification* pipeline by **Shruti Iyyer**.\n",
    "\n",
    "The resulting end‑to‑end pipeline lets you toggle the outlier removal step and perform an identical model search on the original vs. cleaned data, generating publication‑ready tables and figures. All dependencies use their **latest stable releases** and avoid deprecated APIs."
   ]
  },
  {
   "cell_type": "code",
   "id": "a85d0ff7",
   "metadata": {
    "ExecuteTime": {
     "end_time": "2025-06-03T15:28:56.340245Z",
     "start_time": "2025-06-03T15:28:56.334948Z"
    }
   },
   "source": [
    "import warnings\n",
    "\n",
    "warnings.filterwarnings('ignore')\n",
    "\n",
    "import pandas as pd\n",
    "import numpy as np\n",
    "import matplotlib.pyplot as plt\n",
    "from pathlib import Path\n",
    "from sklearn.model_selection import StratifiedKFold, GridSearchCV, train_test_split\n",
    "from sklearn.preprocessing import RobustScaler\n",
    "from sklearn.impute import KNNImputer\n",
    "from sklearn.metrics import roc_auc_score\n",
    "from sklearn.linear_model import LogisticRegression\n",
    "from sklearn.svm import SVC\n",
    "from sklearn.neighbors import KNeighborsClassifier\n",
    "from sklearn.ensemble import RandomForestClassifier, GradientBoostingClassifier\n",
    "from imblearn.over_sampling import SMOTE\n",
    "import xgboost as xgb  # XGBoost >= 2.0\n",
    "from IPython.display import display\n",
    "from PIL import Image\n",
    "\n",
    "\n",
    "RANDOM_STATE = 42\n"
   ],
   "outputs": [],
   "execution_count": 29
  },
  {
   "cell_type": "markdown",
   "id": "2644a547",
   "metadata": {},
   "source": [
    "## 1  Data Acquisition\n",
    "We load the original **diabetes.csv** directly from disk and inspect the schema."
   ]
  },
  {
   "cell_type": "code",
   "id": "99071821",
   "metadata": {
    "ExecuteTime": {
     "end_time": "2025-06-03T15:28:56.400962Z",
     "start_time": "2025-06-03T15:28:56.386442Z"
    }
   },
   "source": [
    "DATA_PATH = Path(r'C:\\Users\\macma\\PycharmProjects\\PimaIndiandsDiabetes\\notebooks\\data\\diabetes.csv')\n",
    "df = pd.read_csv(DATA_PATH)\n",
    "df.head()"
   ],
   "outputs": [
    {
     "data": {
      "text/plain": [
       "   Pregnancies  Glucose  BloodPressure  SkinThickness  Insulin   BMI  \\\n",
       "0            6      148             72             35        0  33.6   \n",
       "1            1       85             66             29        0  26.6   \n",
       "2            8      183             64              0        0  23.3   \n",
       "3            1       89             66             23       94  28.1   \n",
       "4            0      137             40             35      168  43.1   \n",
       "\n",
       "   DiabetesPedigreeFunction  Age  Outcome  \n",
       "0                     0.627   50        1  \n",
       "1                     0.351   31        0  \n",
       "2                     0.672   32        1  \n",
       "3                     0.167   21        0  \n",
       "4                     2.288   33        1  "
      ],
      "text/html": [
       "<div>\n",
       "<style scoped>\n",
       "    .dataframe tbody tr th:only-of-type {\n",
       "        vertical-align: middle;\n",
       "    }\n",
       "\n",
       "    .dataframe tbody tr th {\n",
       "        vertical-align: top;\n",
       "    }\n",
       "\n",
       "    .dataframe thead th {\n",
       "        text-align: right;\n",
       "    }\n",
       "</style>\n",
       "<table border=\"1\" class=\"dataframe\">\n",
       "  <thead>\n",
       "    <tr style=\"text-align: right;\">\n",
       "      <th></th>\n",
       "      <th>Pregnancies</th>\n",
       "      <th>Glucose</th>\n",
       "      <th>BloodPressure</th>\n",
       "      <th>SkinThickness</th>\n",
       "      <th>Insulin</th>\n",
       "      <th>BMI</th>\n",
       "      <th>DiabetesPedigreeFunction</th>\n",
       "      <th>Age</th>\n",
       "      <th>Outcome</th>\n",
       "    </tr>\n",
       "  </thead>\n",
       "  <tbody>\n",
       "    <tr>\n",
       "      <th>0</th>\n",
       "      <td>6</td>\n",
       "      <td>148</td>\n",
       "      <td>72</td>\n",
       "      <td>35</td>\n",
       "      <td>0</td>\n",
       "      <td>33.6</td>\n",
       "      <td>0.627</td>\n",
       "      <td>50</td>\n",
       "      <td>1</td>\n",
       "    </tr>\n",
       "    <tr>\n",
       "      <th>1</th>\n",
       "      <td>1</td>\n",
       "      <td>85</td>\n",
       "      <td>66</td>\n",
       "      <td>29</td>\n",
       "      <td>0</td>\n",
       "      <td>26.6</td>\n",
       "      <td>0.351</td>\n",
       "      <td>31</td>\n",
       "      <td>0</td>\n",
       "    </tr>\n",
       "    <tr>\n",
       "      <th>2</th>\n",
       "      <td>8</td>\n",
       "      <td>183</td>\n",
       "      <td>64</td>\n",
       "      <td>0</td>\n",
       "      <td>0</td>\n",
       "      <td>23.3</td>\n",
       "      <td>0.672</td>\n",
       "      <td>32</td>\n",
       "      <td>1</td>\n",
       "    </tr>\n",
       "    <tr>\n",
       "      <th>3</th>\n",
       "      <td>1</td>\n",
       "      <td>89</td>\n",
       "      <td>66</td>\n",
       "      <td>23</td>\n",
       "      <td>94</td>\n",
       "      <td>28.1</td>\n",
       "      <td>0.167</td>\n",
       "      <td>21</td>\n",
       "      <td>0</td>\n",
       "    </tr>\n",
       "    <tr>\n",
       "      <th>4</th>\n",
       "      <td>0</td>\n",
       "      <td>137</td>\n",
       "      <td>40</td>\n",
       "      <td>35</td>\n",
       "      <td>168</td>\n",
       "      <td>43.1</td>\n",
       "      <td>2.288</td>\n",
       "      <td>33</td>\n",
       "      <td>1</td>\n",
       "    </tr>\n",
       "  </tbody>\n",
       "</table>\n",
       "</div>"
      ]
     },
     "execution_count": 30,
     "metadata": {},
     "output_type": "execute_result"
    }
   ],
   "execution_count": 30
  },
  {
   "cell_type": "markdown",
   "id": "362e30d2",
   "metadata": {},
   "source": [
    "### Summary statistics & class balance"
   ]
  },
  {
   "cell_type": "code",
   "id": "b45a78fd",
   "metadata": {
    "ExecuteTime": {
     "end_time": "2025-06-03T15:28:56.551276Z",
     "start_time": "2025-06-03T15:28:56.515028Z"
    }
   },
   "source": [
    "display(df.describe(include='all'))\n",
    "print('\\nClass distribution:')\n",
    "display(df['Outcome'].value_counts(normalize=True).to_frame('Proportion'))"
   ],
   "outputs": [
    {
     "data": {
      "text/plain": [
       "       Pregnancies     Glucose  BloodPressure  SkinThickness     Insulin  \\\n",
       "count   768.000000  768.000000     768.000000     768.000000  768.000000   \n",
       "mean      3.845052  120.894531      69.105469      20.536458   79.799479   \n",
       "std       3.369578   31.972618      19.355807      15.952218  115.244002   \n",
       "min       0.000000    0.000000       0.000000       0.000000    0.000000   \n",
       "25%       1.000000   99.000000      62.000000       0.000000    0.000000   \n",
       "50%       3.000000  117.000000      72.000000      23.000000   30.500000   \n",
       "75%       6.000000  140.250000      80.000000      32.000000  127.250000   \n",
       "max      17.000000  199.000000     122.000000      99.000000  846.000000   \n",
       "\n",
       "              BMI  DiabetesPedigreeFunction         Age     Outcome  \n",
       "count  768.000000                768.000000  768.000000  768.000000  \n",
       "mean    31.992578                  0.471876   33.240885    0.348958  \n",
       "std      7.884160                  0.331329   11.760232    0.476951  \n",
       "min      0.000000                  0.078000   21.000000    0.000000  \n",
       "25%     27.300000                  0.243750   24.000000    0.000000  \n",
       "50%     32.000000                  0.372500   29.000000    0.000000  \n",
       "75%     36.600000                  0.626250   41.000000    1.000000  \n",
       "max     67.100000                  2.420000   81.000000    1.000000  "
      ],
      "text/html": [
       "<div>\n",
       "<style scoped>\n",
       "    .dataframe tbody tr th:only-of-type {\n",
       "        vertical-align: middle;\n",
       "    }\n",
       "\n",
       "    .dataframe tbody tr th {\n",
       "        vertical-align: top;\n",
       "    }\n",
       "\n",
       "    .dataframe thead th {\n",
       "        text-align: right;\n",
       "    }\n",
       "</style>\n",
       "<table border=\"1\" class=\"dataframe\">\n",
       "  <thead>\n",
       "    <tr style=\"text-align: right;\">\n",
       "      <th></th>\n",
       "      <th>Pregnancies</th>\n",
       "      <th>Glucose</th>\n",
       "      <th>BloodPressure</th>\n",
       "      <th>SkinThickness</th>\n",
       "      <th>Insulin</th>\n",
       "      <th>BMI</th>\n",
       "      <th>DiabetesPedigreeFunction</th>\n",
       "      <th>Age</th>\n",
       "      <th>Outcome</th>\n",
       "    </tr>\n",
       "  </thead>\n",
       "  <tbody>\n",
       "    <tr>\n",
       "      <th>count</th>\n",
       "      <td>768.000000</td>\n",
       "      <td>768.000000</td>\n",
       "      <td>768.000000</td>\n",
       "      <td>768.000000</td>\n",
       "      <td>768.000000</td>\n",
       "      <td>768.000000</td>\n",
       "      <td>768.000000</td>\n",
       "      <td>768.000000</td>\n",
       "      <td>768.000000</td>\n",
       "    </tr>\n",
       "    <tr>\n",
       "      <th>mean</th>\n",
       "      <td>3.845052</td>\n",
       "      <td>120.894531</td>\n",
       "      <td>69.105469</td>\n",
       "      <td>20.536458</td>\n",
       "      <td>79.799479</td>\n",
       "      <td>31.992578</td>\n",
       "      <td>0.471876</td>\n",
       "      <td>33.240885</td>\n",
       "      <td>0.348958</td>\n",
       "    </tr>\n",
       "    <tr>\n",
       "      <th>std</th>\n",
       "      <td>3.369578</td>\n",
       "      <td>31.972618</td>\n",
       "      <td>19.355807</td>\n",
       "      <td>15.952218</td>\n",
       "      <td>115.244002</td>\n",
       "      <td>7.884160</td>\n",
       "      <td>0.331329</td>\n",
       "      <td>11.760232</td>\n",
       "      <td>0.476951</td>\n",
       "    </tr>\n",
       "    <tr>\n",
       "      <th>min</th>\n",
       "      <td>0.000000</td>\n",
       "      <td>0.000000</td>\n",
       "      <td>0.000000</td>\n",
       "      <td>0.000000</td>\n",
       "      <td>0.000000</td>\n",
       "      <td>0.000000</td>\n",
       "      <td>0.078000</td>\n",
       "      <td>21.000000</td>\n",
       "      <td>0.000000</td>\n",
       "    </tr>\n",
       "    <tr>\n",
       "      <th>25%</th>\n",
       "      <td>1.000000</td>\n",
       "      <td>99.000000</td>\n",
       "      <td>62.000000</td>\n",
       "      <td>0.000000</td>\n",
       "      <td>0.000000</td>\n",
       "      <td>27.300000</td>\n",
       "      <td>0.243750</td>\n",
       "      <td>24.000000</td>\n",
       "      <td>0.000000</td>\n",
       "    </tr>\n",
       "    <tr>\n",
       "      <th>50%</th>\n",
       "      <td>3.000000</td>\n",
       "      <td>117.000000</td>\n",
       "      <td>72.000000</td>\n",
       "      <td>23.000000</td>\n",
       "      <td>30.500000</td>\n",
       "      <td>32.000000</td>\n",
       "      <td>0.372500</td>\n",
       "      <td>29.000000</td>\n",
       "      <td>0.000000</td>\n",
       "    </tr>\n",
       "    <tr>\n",
       "      <th>75%</th>\n",
       "      <td>6.000000</td>\n",
       "      <td>140.250000</td>\n",
       "      <td>80.000000</td>\n",
       "      <td>32.000000</td>\n",
       "      <td>127.250000</td>\n",
       "      <td>36.600000</td>\n",
       "      <td>0.626250</td>\n",
       "      <td>41.000000</td>\n",
       "      <td>1.000000</td>\n",
       "    </tr>\n",
       "    <tr>\n",
       "      <th>max</th>\n",
       "      <td>17.000000</td>\n",
       "      <td>199.000000</td>\n",
       "      <td>122.000000</td>\n",
       "      <td>99.000000</td>\n",
       "      <td>846.000000</td>\n",
       "      <td>67.100000</td>\n",
       "      <td>2.420000</td>\n",
       "      <td>81.000000</td>\n",
       "      <td>1.000000</td>\n",
       "    </tr>\n",
       "  </tbody>\n",
       "</table>\n",
       "</div>"
      ]
     },
     "metadata": {},
     "output_type": "display_data"
    },
    {
     "name": "stdout",
     "output_type": "stream",
     "text": [
      "\n",
      "Class distribution:\n"
     ]
    },
    {
     "data": {
      "text/plain": [
       "         Proportion\n",
       "Outcome            \n",
       "0          0.651042\n",
       "1          0.348958"
      ],
      "text/html": [
       "<div>\n",
       "<style scoped>\n",
       "    .dataframe tbody tr th:only-of-type {\n",
       "        vertical-align: middle;\n",
       "    }\n",
       "\n",
       "    .dataframe tbody tr th {\n",
       "        vertical-align: top;\n",
       "    }\n",
       "\n",
       "    .dataframe thead th {\n",
       "        text-align: right;\n",
       "    }\n",
       "</style>\n",
       "<table border=\"1\" class=\"dataframe\">\n",
       "  <thead>\n",
       "    <tr style=\"text-align: right;\">\n",
       "      <th></th>\n",
       "      <th>Proportion</th>\n",
       "    </tr>\n",
       "    <tr>\n",
       "      <th>Outcome</th>\n",
       "      <th></th>\n",
       "    </tr>\n",
       "  </thead>\n",
       "  <tbody>\n",
       "    <tr>\n",
       "      <th>0</th>\n",
       "      <td>0.651042</td>\n",
       "    </tr>\n",
       "    <tr>\n",
       "      <th>1</th>\n",
       "      <td>0.348958</td>\n",
       "    </tr>\n",
       "  </tbody>\n",
       "</table>\n",
       "</div>"
      ]
     },
     "metadata": {},
     "output_type": "display_data"
    }
   ],
   "execution_count": 31
  },
  {
   "cell_type": "markdown",
   "id": "2264519d",
   "metadata": {},
   "source": [
    "## 2  Outlier & Missing‑Value Management\n",
    "Following Naresha Bhat, physiologically impossible zeros are treated as **missing**. We then impute with *K‑NN* (k=5) and optionally remove extreme values defined by an IQR rule."
   ]
  },
  {
   "cell_type": "code",
   "id": "dda2c2c4",
   "metadata": {
    "ExecuteTime": {
     "end_time": "2025-06-03T15:28:56.905144Z",
     "start_time": "2025-06-03T15:28:56.858861Z"
    }
   },
   "source": [
    "cols_with_zero_na = ['Glucose', 'BloodPressure', 'SkinThickness', 'Insulin', 'BMI']\n",
    "df_clean = df.copy()\n",
    "df_clean[cols_with_zero_na] = df_clean[cols_with_zero_na].replace(0, np.nan)\n",
    "\n",
    "# Impute with KNN\n",
    "imputer = KNNImputer(n_neighbors=5)\n",
    "df_clean[cols_with_zero_na] = imputer.fit_transform(df_clean[cols_with_zero_na])\n",
    "\n",
    "df_clean.head()"
   ],
   "outputs": [
    {
     "data": {
      "text/plain": [
       "   Pregnancies  Glucose  BloodPressure  SkinThickness  Insulin   BMI  \\\n",
       "0            6    148.0           72.0           35.0    209.0  33.6   \n",
       "1            1     85.0           66.0           29.0     73.0  26.6   \n",
       "2            8    183.0           64.0           29.4    383.2  23.3   \n",
       "3            1     89.0           66.0           23.0     94.0  28.1   \n",
       "4            0    137.0           40.0           35.0    168.0  43.1   \n",
       "\n",
       "   DiabetesPedigreeFunction  Age  Outcome  \n",
       "0                     0.627   50        1  \n",
       "1                     0.351   31        0  \n",
       "2                     0.672   32        1  \n",
       "3                     0.167   21        0  \n",
       "4                     2.288   33        1  "
      ],
      "text/html": [
       "<div>\n",
       "<style scoped>\n",
       "    .dataframe tbody tr th:only-of-type {\n",
       "        vertical-align: middle;\n",
       "    }\n",
       "\n",
       "    .dataframe tbody tr th {\n",
       "        vertical-align: top;\n",
       "    }\n",
       "\n",
       "    .dataframe thead th {\n",
       "        text-align: right;\n",
       "    }\n",
       "</style>\n",
       "<table border=\"1\" class=\"dataframe\">\n",
       "  <thead>\n",
       "    <tr style=\"text-align: right;\">\n",
       "      <th></th>\n",
       "      <th>Pregnancies</th>\n",
       "      <th>Glucose</th>\n",
       "      <th>BloodPressure</th>\n",
       "      <th>SkinThickness</th>\n",
       "      <th>Insulin</th>\n",
       "      <th>BMI</th>\n",
       "      <th>DiabetesPedigreeFunction</th>\n",
       "      <th>Age</th>\n",
       "      <th>Outcome</th>\n",
       "    </tr>\n",
       "  </thead>\n",
       "  <tbody>\n",
       "    <tr>\n",
       "      <th>0</th>\n",
       "      <td>6</td>\n",
       "      <td>148.0</td>\n",
       "      <td>72.0</td>\n",
       "      <td>35.0</td>\n",
       "      <td>209.0</td>\n",
       "      <td>33.6</td>\n",
       "      <td>0.627</td>\n",
       "      <td>50</td>\n",
       "      <td>1</td>\n",
       "    </tr>\n",
       "    <tr>\n",
       "      <th>1</th>\n",
       "      <td>1</td>\n",
       "      <td>85.0</td>\n",
       "      <td>66.0</td>\n",
       "      <td>29.0</td>\n",
       "      <td>73.0</td>\n",
       "      <td>26.6</td>\n",
       "      <td>0.351</td>\n",
       "      <td>31</td>\n",
       "      <td>0</td>\n",
       "    </tr>\n",
       "    <tr>\n",
       "      <th>2</th>\n",
       "      <td>8</td>\n",
       "      <td>183.0</td>\n",
       "      <td>64.0</td>\n",
       "      <td>29.4</td>\n",
       "      <td>383.2</td>\n",
       "      <td>23.3</td>\n",
       "      <td>0.672</td>\n",
       "      <td>32</td>\n",
       "      <td>1</td>\n",
       "    </tr>\n",
       "    <tr>\n",
       "      <th>3</th>\n",
       "      <td>1</td>\n",
       "      <td>89.0</td>\n",
       "      <td>66.0</td>\n",
       "      <td>23.0</td>\n",
       "      <td>94.0</td>\n",
       "      <td>28.1</td>\n",
       "      <td>0.167</td>\n",
       "      <td>21</td>\n",
       "      <td>0</td>\n",
       "    </tr>\n",
       "    <tr>\n",
       "      <th>4</th>\n",
       "      <td>0</td>\n",
       "      <td>137.0</td>\n",
       "      <td>40.0</td>\n",
       "      <td>35.0</td>\n",
       "      <td>168.0</td>\n",
       "      <td>43.1</td>\n",
       "      <td>2.288</td>\n",
       "      <td>33</td>\n",
       "      <td>1</td>\n",
       "    </tr>\n",
       "  </tbody>\n",
       "</table>\n",
       "</div>"
      ]
     },
     "execution_count": 32,
     "metadata": {},
     "output_type": "execute_result"
    }
   ],
   "execution_count": 32
  },
  {
   "cell_type": "code",
   "id": "83e0fb16",
   "metadata": {
    "ExecuteTime": {
     "end_time": "2025-06-03T15:28:57.191401Z",
     "start_time": "2025-06-03T15:28:57.168265Z"
    }
   },
   "source": [
    "def remove_iqr_outliers(dataframe, multiplier=1.5):\n",
    "    df_out = dataframe.copy()\n",
    "    mask = pd.Series([False] * len(df_out))\n",
    "    for col in dataframe.columns.drop('Outcome'):\n",
    "        Q1 = df_out[col].quantile(0.25)\n",
    "        Q3 = df_out[col].quantile(0.75)\n",
    "        IQR = Q3 - Q1\n",
    "        lower, upper = Q1 - multiplier * IQR, Q3 + multiplier * IQR\n",
    "        mask |= ~df_out[col].between(lower, upper)\n",
    "    removed_idx = df_out.index[mask]\n",
    "    return df_out.loc[~mask].reset_index(drop=True), removed_idx\n",
    "\n",
    "\n",
    "# Cleaned dataset without extreme outliers\n",
    "df_no_outliers, removed_indices = remove_iqr_outliers(df_clean)\n",
    "print(f'Removed {len(removed_indices)} extreme outliers (IQR rule).')"
   ],
   "outputs": [
    {
     "name": "stdout",
     "output_type": "stream",
     "text": [
      "Removed 89 extreme outliers (IQR rule).\n"
     ]
    }
   ],
   "execution_count": 33
  },
  {
   "cell_type": "markdown",
   "id": "bad866ff",
   "metadata": {},
   "source": [
    "#### Dataset shapes after cleaning"
   ]
  },
  {
   "cell_type": "code",
   "id": "fddecd07",
   "metadata": {
    "ExecuteTime": {
     "end_time": "2025-06-03T15:28:57.433449Z",
     "start_time": "2025-06-03T15:28:57.428169Z"
    }
   },
   "source": [
    "print('Original shape :', df.shape)\n",
    "print('After zeros→NaN  :', df_clean.shape)\n",
    "print('No‑outliers     :', df_no_outliers.shape)"
   ],
   "outputs": [
    {
     "name": "stdout",
     "output_type": "stream",
     "text": [
      "Original shape : (768, 9)\n",
      "After zeros→NaN  : (768, 9)\n",
      "No‑outliers     : (679, 9)\n"
     ]
    }
   ],
   "execution_count": 34
  },
  {
   "cell_type": "markdown",
   "id": "7bb3ef2e",
   "metadata": {},
   "source": [
    "## 3  Modelling Pipeline\n",
    "We compare six classifiers, each wrapped in a `Pipeline`:\n",
    "* Logistic Regression\n",
    "* k‑Nearest Neighbours\n",
    "* Support Vector Machine (RBF)\n",
    "* Random Forest\n",
    "* Gradient Boosting\n",
    "* XGBoost\n",
    "\n",
    "All pipelines share: **RobustScaler → SMOTE → Estimator**."
   ]
  },
  {
   "cell_type": "code",
   "id": "8ed580cd",
   "metadata": {
    "ExecuteTime": {
     "end_time": "2025-06-03T15:28:57.542478Z",
     "start_time": "2025-06-03T15:28:57.535262Z"
    }
   },
   "source": [
    "from imblearn.pipeline import Pipeline as ImbPipeline\n",
    "\n",
    "estimators = {\n",
    "    'logreg': (LogisticRegression(max_iter=1000, random_state=RANDOM_STATE),\n",
    "               {'estimator__C': [0.1, 1, 10]}),\n",
    "    'knn': (KNeighborsClassifier(),\n",
    "            {'estimator__n_neighbors': [3, 5, 7]}),\n",
    "    'svm': (SVC(kernel='rbf', probability=True, random_state=RANDOM_STATE),\n",
    "            {'estimator__C': [0.1, 1, 10], 'estimator__gamma': ['scale', 0.01]}),\n",
    "    'rf': (RandomForestClassifier(random_state=RANDOM_STATE),\n",
    "           {'estimator__n_estimators': [200, 500]}),\n",
    "    'gb': (GradientBoostingClassifier(random_state=RANDOM_STATE),\n",
    "           {'estimator__learning_rate': [0.05, 0.1]}),\n",
    "    'xgb': (xgb.XGBClassifier(random_state=RANDOM_STATE, eval_metric='logloss', use_label_encoder=False),\n",
    "            {'estimator__n_estimators': [300], 'estimator__max_depth': [3, 5], 'estimator__learning_rate': [0.05, 0.1]})\n",
    "}\n",
    "\n",
    "\n",
    "def build_pipeline(estimator):\n",
    "    return ImbPipeline(steps=[\n",
    "        ('scaler', RobustScaler()),\n",
    "        ('smote', SMOTE(random_state=RANDOM_STATE)),\n",
    "        ('estimator', estimator)\n",
    "    ])"
   ],
   "outputs": [],
   "execution_count": 35
  },
  {
   "cell_type": "markdown",
   "id": "e9f35c90",
   "metadata": {},
   "source": [
    "### Cross‑Validation Strategy"
   ]
  },
  {
   "cell_type": "code",
   "id": "f10f65f7",
   "metadata": {
    "ExecuteTime": {
     "end_time": "2025-06-03T15:28:57.617131Z",
     "start_time": "2025-06-03T15:28:57.611871Z"
    }
   },
   "source": [
    "cv = StratifiedKFold(n_splits=10, shuffle=True, random_state=RANDOM_STATE)\n",
    "scoring = ['accuracy', 'f1', 'roc_auc']\n"
   ],
   "outputs": [],
   "execution_count": 36
  },
  {
   "cell_type": "code",
   "id": "1e747d5a",
   "metadata": {
    "ExecuteTime": {
     "end_time": "2025-06-03T15:28:57.697492Z",
     "start_time": "2025-06-03T15:28:57.692090Z"
    }
   },
   "source": [
    "def run_model_search(X, y, label):\n",
    "    records = []\n",
    "    for name, (estimator, grid) in estimators.items():\n",
    "        pipe = build_pipeline(estimator)\n",
    "        gs = GridSearchCV(pipe, param_grid=grid, cv=cv, scoring=scoring, refit='roc_auc', n_jobs=-1)\n",
    "        gs.fit(X, y)\n",
    "        records.append({\n",
    "            'Dataset': label,\n",
    "            'Model': name.upper(),\n",
    "            'Best ROC_AUC': gs.best_score_,\n",
    "            'Best Params': gs.best_params_\n",
    "        })\n",
    "    return pd.DataFrame(records)"
   ],
   "outputs": [],
   "execution_count": 37
  },
  {
   "cell_type": "markdown",
   "id": "9d27501b",
   "metadata": {},
   "source": [
    "## 4  Experiments\n",
    "We execute two identical sweeps:\n",
    "1. **Raw dataset** (zeros retained)\n",
    "2. **Cleaned dataset** (zeros→NaN, imputed, outliers removed)\n",
    "\n",
    "The results are aggregated for direct comparison."
   ]
  },
  {
   "cell_type": "code",
   "id": "ad1e0abf",
   "metadata": {
    "ExecuteTime": {
     "end_time": "2025-06-03T15:29:28.895207Z",
     "start_time": "2025-06-03T15:28:57.769968Z"
    }
   },
   "source": [
    "# Features/labels\n",
    "X_raw, y_raw = df.drop(columns='Outcome'), df['Outcome']\n",
    "X_clean, y_clean = df_no_outliers.drop(columns='Outcome'), df_no_outliers['Outcome']\n",
    "\n",
    "results_raw = run_model_search(X_raw, y_raw, 'Raw')\n",
    "results_clean = run_model_search(X_clean, y_clean, 'Cleaned')\n",
    "results = pd.concat([results_raw, results_clean], ignore_index=True)\n",
    "results"
   ],
   "outputs": [
    {
     "data": {
      "text/plain": [
       "    Dataset   Model  Best ROC_AUC  \\\n",
       "0       Raw  LOGREG      0.833558   \n",
       "1       Raw     KNN      0.766922   \n",
       "2       Raw     SVM      0.833162   \n",
       "3       Raw      RF      0.821997   \n",
       "4       Raw      GB      0.834228   \n",
       "5       Raw     XGB      0.822946   \n",
       "6   Cleaned  LOGREG      0.839777   \n",
       "7   Cleaned     KNN      0.789501   \n",
       "8   Cleaned     SVM      0.845933   \n",
       "9   Cleaned      RF      0.824952   \n",
       "10  Cleaned      GB      0.829929   \n",
       "11  Cleaned     XGB      0.825486   \n",
       "\n",
       "                                          Best Params  \n",
       "0                                 {'estimator__C': 1}  \n",
       "1                       {'estimator__n_neighbors': 7}  \n",
       "2       {'estimator__C': 1, 'estimator__gamma': 0.01}  \n",
       "3                    {'estimator__n_estimators': 500}  \n",
       "4                  {'estimator__learning_rate': 0.05}  \n",
       "5   {'estimator__learning_rate': 0.05, 'estimator_...  \n",
       "6                               {'estimator__C': 0.1}  \n",
       "7                       {'estimator__n_neighbors': 7}  \n",
       "8      {'estimator__C': 10, 'estimator__gamma': 0.01}  \n",
       "9                    {'estimator__n_estimators': 500}  \n",
       "10                 {'estimator__learning_rate': 0.05}  \n",
       "11  {'estimator__learning_rate': 0.05, 'estimator_...  "
      ],
      "text/html": [
       "<div>\n",
       "<style scoped>\n",
       "    .dataframe tbody tr th:only-of-type {\n",
       "        vertical-align: middle;\n",
       "    }\n",
       "\n",
       "    .dataframe tbody tr th {\n",
       "        vertical-align: top;\n",
       "    }\n",
       "\n",
       "    .dataframe thead th {\n",
       "        text-align: right;\n",
       "    }\n",
       "</style>\n",
       "<table border=\"1\" class=\"dataframe\">\n",
       "  <thead>\n",
       "    <tr style=\"text-align: right;\">\n",
       "      <th></th>\n",
       "      <th>Dataset</th>\n",
       "      <th>Model</th>\n",
       "      <th>Best ROC_AUC</th>\n",
       "      <th>Best Params</th>\n",
       "    </tr>\n",
       "  </thead>\n",
       "  <tbody>\n",
       "    <tr>\n",
       "      <th>0</th>\n",
       "      <td>Raw</td>\n",
       "      <td>LOGREG</td>\n",
       "      <td>0.833558</td>\n",
       "      <td>{'estimator__C': 1}</td>\n",
       "    </tr>\n",
       "    <tr>\n",
       "      <th>1</th>\n",
       "      <td>Raw</td>\n",
       "      <td>KNN</td>\n",
       "      <td>0.766922</td>\n",
       "      <td>{'estimator__n_neighbors': 7}</td>\n",
       "    </tr>\n",
       "    <tr>\n",
       "      <th>2</th>\n",
       "      <td>Raw</td>\n",
       "      <td>SVM</td>\n",
       "      <td>0.833162</td>\n",
       "      <td>{'estimator__C': 1, 'estimator__gamma': 0.01}</td>\n",
       "    </tr>\n",
       "    <tr>\n",
       "      <th>3</th>\n",
       "      <td>Raw</td>\n",
       "      <td>RF</td>\n",
       "      <td>0.821997</td>\n",
       "      <td>{'estimator__n_estimators': 500}</td>\n",
       "    </tr>\n",
       "    <tr>\n",
       "      <th>4</th>\n",
       "      <td>Raw</td>\n",
       "      <td>GB</td>\n",
       "      <td>0.834228</td>\n",
       "      <td>{'estimator__learning_rate': 0.05}</td>\n",
       "    </tr>\n",
       "    <tr>\n",
       "      <th>5</th>\n",
       "      <td>Raw</td>\n",
       "      <td>XGB</td>\n",
       "      <td>0.822946</td>\n",
       "      <td>{'estimator__learning_rate': 0.05, 'estimator_...</td>\n",
       "    </tr>\n",
       "    <tr>\n",
       "      <th>6</th>\n",
       "      <td>Cleaned</td>\n",
       "      <td>LOGREG</td>\n",
       "      <td>0.839777</td>\n",
       "      <td>{'estimator__C': 0.1}</td>\n",
       "    </tr>\n",
       "    <tr>\n",
       "      <th>7</th>\n",
       "      <td>Cleaned</td>\n",
       "      <td>KNN</td>\n",
       "      <td>0.789501</td>\n",
       "      <td>{'estimator__n_neighbors': 7}</td>\n",
       "    </tr>\n",
       "    <tr>\n",
       "      <th>8</th>\n",
       "      <td>Cleaned</td>\n",
       "      <td>SVM</td>\n",
       "      <td>0.845933</td>\n",
       "      <td>{'estimator__C': 10, 'estimator__gamma': 0.01}</td>\n",
       "    </tr>\n",
       "    <tr>\n",
       "      <th>9</th>\n",
       "      <td>Cleaned</td>\n",
       "      <td>RF</td>\n",
       "      <td>0.824952</td>\n",
       "      <td>{'estimator__n_estimators': 500}</td>\n",
       "    </tr>\n",
       "    <tr>\n",
       "      <th>10</th>\n",
       "      <td>Cleaned</td>\n",
       "      <td>GB</td>\n",
       "      <td>0.829929</td>\n",
       "      <td>{'estimator__learning_rate': 0.05}</td>\n",
       "    </tr>\n",
       "    <tr>\n",
       "      <th>11</th>\n",
       "      <td>Cleaned</td>\n",
       "      <td>XGB</td>\n",
       "      <td>0.825486</td>\n",
       "      <td>{'estimator__learning_rate': 0.05, 'estimator_...</td>\n",
       "    </tr>\n",
       "  </tbody>\n",
       "</table>\n",
       "</div>"
      ]
     },
     "execution_count": 38,
     "metadata": {},
     "output_type": "execute_result"
    }
   ],
   "execution_count": 38
  },
  {
   "cell_type": "markdown",
   "id": "3dfbc59f",
   "metadata": {},
   "source": [
    "### Performance Visualisation"
   ]
  },
  {
   "cell_type": "code",
   "id": "18ed9df6",
   "metadata": {
    "ExecuteTime": {
     "end_time": "2025-06-03T15:29:29.219445Z",
     "start_time": "2025-06-03T15:29:29.014251Z"
    }
   },
   "source": [
    "pivot = results.pivot(index='Model', columns='Dataset', values='Best ROC_AUC')\n",
    "pivot.plot.bar(figsize=(8, 5))\n",
    "plt.ylabel('ROC AUC (CV mean)')\n",
    "plt.title('Model comparison with/without outlier removal')\n",
    "plt.tight_layout()\n",
    "plt.show()"
   ],
   "outputs": [
    {
     "data": {
      "text/plain": [
       "<Figure size 800x500 with 1 Axes>"
      ],
      "image/png": "[encoded data removed]"
     },
     "metadata": {},
     "output_type": "display_data"
    }
   ],
   "execution_count": 39
  },
  {
   "cell_type": "markdown",
   "id": "a9890e6b",
   "metadata": {},
   "source": [
    "## 5  Sensitivity Analysis\n",
    "We re‑introduce the removed outliers, retrain the best‑performing *cleaned* model, and quantify the performance drop."
   ]
  },
  {
   "cell_type": "code",
   "id": "ca157165",
   "metadata": {
    "ExecuteTime": {
     "end_time": "2025-06-03T15:29:29.482723Z",
     "start_time": "2025-06-03T15:29:29.298872Z"
    }
   },
   "source": [
    "# Identify best cleaned model\n",
    "best_row = results_clean.sort_values('Best ROC_AUC', ascending=False).iloc[0]\n",
    "best_model_name = best_row['Model'].lower()\n",
    "estimator, grid = estimators[best_model_name]\n",
    "pipe = build_pipeline(estimator)\n",
    "\n",
    "X_train, X_test, y_train, y_test = train_test_split(X_clean, y_clean, stratify=y_clean,\n",
    "                                                    test_size=0.2, random_state=RANDOM_STATE)\n",
    "pipe.set_params(**best_row['Best Params'])\n",
    "pipe.fit(X_train, y_train)\n",
    "\n",
    "y_pred = pipe.predict(X_test)\n",
    "y_prob = pipe.predict_proba(X_test)[:, 1]\n",
    "raw_auc = roc_auc_score(y_test, y_prob)\n",
    "print(f'ROC AUC on hold‑out cleaned data: {raw_auc:.3f}')\n",
    "\n",
    "# Evaluate on test with outliers restored\n",
    "df_restored = pd.concat([df_clean.loc[removed_indices], df_no_outliers], ignore_index=True)\n",
    "X_full = df_restored.drop(columns='Outcome')\n",
    "y_full = df_restored['Outcome']\n",
    "y_prob_full = pipe.predict_proba(X_full)[:, 1]\n",
    "full_auc = roc_auc_score(y_full, y_prob_full)\n",
    "print(f'ROC AUC after re‑introducing outliers: {full_auc:.3f}')"
   ],
   "outputs": [
    {
     "name": "stdout",
     "output_type": "stream",
     "text": [
      "ROC AUC on hold‑out cleaned data: 0.804\n",
      "ROC AUC after re‑introducing outliers: 0.826\n"
     ]
    }
   ],
   "execution_count": 40
  }
 ],
 "metadata": {},
 "nbformat": 4,
 "nbformat_minor": 5
}
